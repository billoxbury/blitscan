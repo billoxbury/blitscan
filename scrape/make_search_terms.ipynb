{
 "cells": [
  {
   "cell_type": "markdown",
   "id": "bb88a4b1",
   "metadata": {},
   "source": [
    "# Creating search terms for web crawls"
   ]
  },
  {
   "cell_type": "markdown",
   "id": "e8000e45",
   "metadata": {},
   "source": [
    "We will use species data sets to make list of search terms. In the first instance, this is for use in (Bing) custom web search. But we will also use these for scraping research listings just as <a href=\"https://www.biorxiv.org/\">biorxiv.org</a>, <a href=\"https://scielo.org/\">scielo.org</a>, <a href=\"https://www.jstage.jst.go.jp/\">jstage.jst.go.jp</a>, <a href=\"https://cnki.net/\">cnki.net</a>.\n",
    "\n",
    "Start with the BirdLife spreadsheet of species:"
   ]
  },
  {
   "cell_type": "code",
   "execution_count": 7,
   "id": "ffecfec6",
   "metadata": {},
   "outputs": [
    {
     "data": {
      "text/html": [
       "<div>\n",
       "<style scoped>\n",
       "    .dataframe tbody tr th:only-of-type {\n",
       "        vertical-align: middle;\n",
       "    }\n",
       "\n",
       "    .dataframe tbody tr th {\n",
       "        vertical-align: top;\n",
       "    }\n",
       "\n",
       "    .dataframe thead th {\n",
       "        text-align: right;\n",
       "    }\n",
       "</style>\n",
       "<table border=\"1\" class=\"dataframe\">\n",
       "  <thead>\n",
       "    <tr style=\"text-align: right;\">\n",
       "      <th></th>\n",
       "      <th>comName</th>\n",
       "      <th>sciName</th>\n",
       "      <th>syn</th>\n",
       "      <th>alt</th>\n",
       "      <th>SISRecID</th>\n",
       "      <th>Unnamed: 5</th>\n",
       "    </tr>\n",
       "  </thead>\n",
       "  <tbody>\n",
       "    <tr>\n",
       "      <th>0</th>\n",
       "      <td>Common Ostrich</td>\n",
       "      <td>Struthio camelus</td>\n",
       "      <td></td>\n",
       "      <td></td>\n",
       "      <td>45020636.0</td>\n",
       "      <td></td>\n",
       "    </tr>\n",
       "    <tr>\n",
       "      <th>1</th>\n",
       "      <td>Somali Ostrich</td>\n",
       "      <td>Struthio molybdophanes</td>\n",
       "      <td></td>\n",
       "      <td></td>\n",
       "      <td>22732795.0</td>\n",
       "      <td></td>\n",
       "    </tr>\n",
       "    <tr>\n",
       "      <th>2</th>\n",
       "      <td>Greater Rhea</td>\n",
       "      <td>Rhea americana</td>\n",
       "      <td></td>\n",
       "      <td>Common Rhea, Avestruz, Ñandú, Ñandú Común</td>\n",
       "      <td>22678073.0</td>\n",
       "      <td></td>\n",
       "    </tr>\n",
       "    <tr>\n",
       "      <th>3</th>\n",
       "      <td>Lesser Rhea</td>\n",
       "      <td>Rhea pennata</td>\n",
       "      <td></td>\n",
       "      <td></td>\n",
       "      <td>22728199.0</td>\n",
       "      <td></td>\n",
       "    </tr>\n",
       "    <tr>\n",
       "      <th>4</th>\n",
       "      <td>Puna Rhea</td>\n",
       "      <td>Rhea tarapacensis</td>\n",
       "      <td></td>\n",
       "      <td></td>\n",
       "      <td>22728206.0</td>\n",
       "      <td></td>\n",
       "    </tr>\n",
       "    <tr>\n",
       "      <th>...</th>\n",
       "      <td>...</td>\n",
       "      <td>...</td>\n",
       "      <td>...</td>\n",
       "      <td>...</td>\n",
       "      <td>...</td>\n",
       "      <td>...</td>\n",
       "    </tr>\n",
       "    <tr>\n",
       "      <th>13133</th>\n",
       "      <td></td>\n",
       "      <td>Tangara cyanoptera</td>\n",
       "      <td></td>\n",
       "      <td></td>\n",
       "      <td>22722950.0</td>\n",
       "      <td></td>\n",
       "    </tr>\n",
       "    <tr>\n",
       "      <th>13134</th>\n",
       "      <td></td>\n",
       "      <td>Tangara vassorii</td>\n",
       "      <td></td>\n",
       "      <td></td>\n",
       "      <td>22722933.0</td>\n",
       "      <td></td>\n",
       "    </tr>\n",
       "    <tr>\n",
       "      <th>13135</th>\n",
       "      <td></td>\n",
       "      <td>Tangara velia</td>\n",
       "      <td></td>\n",
       "      <td></td>\n",
       "      <td>22731274.0</td>\n",
       "      <td></td>\n",
       "    </tr>\n",
       "    <tr>\n",
       "      <th>13136</th>\n",
       "      <td></td>\n",
       "      <td>Tangara brasiliensis</td>\n",
       "      <td></td>\n",
       "      <td></td>\n",
       "      <td>22731781.0</td>\n",
       "      <td></td>\n",
       "    </tr>\n",
       "    <tr>\n",
       "      <th>13137</th>\n",
       "      <td></td>\n",
       "      <td>Tangara cucullata</td>\n",
       "      <td></td>\n",
       "      <td></td>\n",
       "      <td>22722887.0</td>\n",
       "      <td></td>\n",
       "    </tr>\n",
       "  </tbody>\n",
       "</table>\n",
       "<p>13138 rows × 6 columns</p>\n",
       "</div>"
      ],
      "text/plain": [
       "              comName                 sciName syn  \\\n",
       "0      Common Ostrich        Struthio camelus       \n",
       "1      Somali Ostrich  Struthio molybdophanes       \n",
       "2        Greater Rhea          Rhea americana       \n",
       "3         Lesser Rhea            Rhea pennata       \n",
       "4           Puna Rhea       Rhea tarapacensis       \n",
       "...               ...                     ...  ..   \n",
       "13133                      Tangara cyanoptera       \n",
       "13134                        Tangara vassorii       \n",
       "13135                           Tangara velia       \n",
       "13136                    Tangara brasiliensis       \n",
       "13137                       Tangara cucullata       \n",
       "\n",
       "                                             alt    SISRecID Unnamed: 5  \n",
       "0                                                 45020636.0             \n",
       "1                                                 22732795.0             \n",
       "2      Common Rhea, Avestruz, Ñandú, Ñandú Común  22678073.0             \n",
       "3                                                 22728199.0             \n",
       "4                                                 22728206.0             \n",
       "...                                          ...         ...        ...  \n",
       "13133                                             22722950.0             \n",
       "13134                                             22722933.0             \n",
       "13135                                             22731274.0             \n",
       "13136                                             22731781.0             \n",
       "13137                                             22722887.0             \n",
       "\n",
       "[13138 rows x 6 columns]"
      ]
     },
     "execution_count": 7,
     "metadata": {},
     "output_type": "execute_result"
    }
   ],
   "source": [
    "import pandas as pd\n",
    "\n",
    "taxfile = \"../data/BirdLife_species_list_Jan_2022.xlsx\"\n",
    "\n",
    "tax = pd.read_excel(taxfile, header = 0).fillna('')\n",
    "new_tax_columns = {\n",
    "    'Common name': 'comName',\n",
    "    'Scientific name': 'sciName',\n",
    "    'Synonyms': 'syn',\n",
    "    'Alternative common names' : 'alt'\n",
    "}\n",
    "tax.rename(columns=new_tax_columns, inplace=True)\n",
    "tax"
   ]
  },
  {
   "cell_type": "markdown",
   "id": "2c087dfe",
   "metadata": {},
   "source": [
    "As a starter list, we construct the generic common names (i.e. 'ostrich' from 'common ostrich'):"
   ]
  },
  {
   "cell_type": "code",
   "execution_count": 31,
   "id": "7c258054",
   "metadata": {},
   "outputs": [
    {
     "name": "stdout",
     "output_type": "stream",
     "text": [
      "Total 1048 words\n",
      "['accentor',\n",
      " 'adjutant',\n",
      " 'akalat',\n",
      " 'akekee',\n",
      " 'akepa',\n",
      " 'akialoa',\n",
      " 'akiapolaau',\n",
      " 'akikiki',\n",
      " 'akohekohe',\n",
      " 'alauahio']\n",
      "...\n",
      "['xenops',\n",
      " 'yellow-finch',\n",
      " 'yellowbill',\n",
      " 'yellowbrow',\n",
      " 'yellowhammer',\n",
      " 'yellowhead',\n",
      " 'yellowlegs',\n",
      " 'yellownape',\n",
      " 'yellowthroat',\n",
      " 'yuhina']\n"
     ]
    }
   ],
   "source": [
    "from pprint import pprint\n",
    "\n",
    "com_words = [x.split() for x in tax['comName']]\n",
    "words_single = list(set([y[0].lower() for y in com_words if len(y) == 1]))\n",
    "words_generic = list(set([y[-1].lower() for y in com_words if len(y) > 1]))\n",
    "\n",
    "com_words = sorted(list(set(words_single + words_generic)))\n",
    "print(f'Total {len(com_words)} words')\n",
    "pprint(com_words[:10])\n",
    "print('...')\n",
    "pprint(com_words[-10:])"
   ]
  },
  {
   "cell_type": "markdown",
   "id": "73982ace",
   "metadata": {},
   "source": [
    "We could add the same construction for the field 'alt', capturing alternative names. The reason we don't is that these are often non-English, e.g. French, with reverse word order, so the position of the generic name is unpredictable."
   ]
  },
  {
   "cell_type": "code",
   "execution_count": 29,
   "id": "035ba145",
   "metadata": {},
   "outputs": [
    {
     "name": "stdout",
     "output_type": "stream",
     "text": [
      "['Souimanga à tête bleue',\n",
      " 'Buff-cheeked Tody-Flycatcher',\n",
      " 'Tawny-bellied Screech Owl',\n",
      " 'Pingüino patagónico',\n",
      " 'Orange-crowned Fairywren',\n",
      " 'Faisán de Cola Ocelada Malayo',\n",
      " 'Miniature Tit-babbler',\n",
      " 'Veuve à épaulettes orangées',\n",
      " 'Red-tailed Bulbul',\n",
      " 'African Olive Pigeon']\n"
     ]
    }
   ],
   "source": [
    "import random\n",
    "from pprint import pprint\n",
    "\n",
    "alt_names = [x.split(',') for x in tax['alt']]\n",
    "alt_names = [x for x in alt_names if x != ['']]\n",
    "alt_names = [x.strip() for x in sum(alt_names, [])]\n",
    "\n",
    "pprint(random.sample(alt_names, 10))"
   ]
  },
  {
   "cell_type": "markdown",
   "id": "bed8fe06",
   "metadata": {},
   "source": [
    "Our approach for custom web search will be to combine the generic 'English' common names with generic scientific (Latin) name."
   ]
  },
  {
   "cell_type": "code",
   "execution_count": 41,
   "id": "b5489aac",
   "metadata": {
    "scrolled": false
   },
   "outputs": [
    {
     "name": "stdout",
     "output_type": "stream",
     "text": [
      "Total 2400 words\n",
      "['abeillia',\n",
      " 'abroscopus',\n",
      " 'aburria',\n",
      " 'acanthagenys',\n",
      " 'acanthidops',\n",
      " 'acanthis',\n",
      " 'acanthisitta',\n",
      " 'acanthiza',\n",
      " 'acanthoptila',\n",
      " 'acanthorhynchus']\n",
      "...\n",
      "['zeledonia',\n",
      " 'zenaida',\n",
      " 'zentrygon',\n",
      " 'zimmerius',\n",
      " 'zonerodius',\n",
      " 'zonotrichia',\n",
      " 'zoonavena',\n",
      " 'zoothera',\n",
      " 'zosterops',\n",
      " 'zosterornis']\n"
     ]
    }
   ],
   "source": [
    "sci_words = [x.split() for x in tax['sciName']]\n",
    "sci_words = list(set([y[0].lower() for y in sci_words if len(y) > 0]))\n",
    "\n",
    "sci_words = sorted(sci_words)\n",
    "print(f'Total {len(sci_words)} words')\n",
    "pprint(sci_words[:10])\n",
    "print('...')\n",
    "pprint(sci_words[-10:])"
   ]
  },
  {
   "cell_type": "markdown",
   "id": "425b0cda",
   "metadata": {},
   "source": [
    "This is our general list of search terms, which we write to disk for use by the custom search script."
   ]
  },
  {
   "cell_type": "code",
   "execution_count": 46,
   "id": "597e00aa",
   "metadata": {},
   "outputs": [
    {
     "name": "stdout",
     "output_type": "stream",
     "text": [
      "Total 3363 search terms\n"
     ]
    }
   ],
   "source": [
    "search_terms_general = list(set(com_words + sci_words))\n",
    "print(f'Total {len(search_terms_general)} search terms')\n",
    "\n",
    "# write to disk\n",
    "\n",
    "searchterm_file = \"../data/searchterms_general.txt\"\n",
    "    \n",
    "with open(searchterm_file, 'w') as sf:\n",
    "    for w in sorted(search_terms_general):\n",
    "        sf.write(w + '\\n')\n",
    "sf.close()"
   ]
  },
  {
   "cell_type": "markdown",
   "id": "c236a92b",
   "metadata": {},
   "source": [
    "## Targeting vulnerable species"
   ]
  },
  {
   "cell_type": "markdown",
   "id": "f15e56b2",
   "metadata": {},
   "source": [
    "For research content servers, we will use a narrower set of search terms in order to target species with red-list status higher than <i>LC</i> (and also not <i>EX</i>). Also, in order to be language-agnostic, we will use only the scientific genus names.\n",
    "\n",
    "For this, we will use the data set of 11,107 species created by scraping BirdLife DataZone:"
   ]
  },
  {
   "cell_type": "code",
   "execution_count": 48,
   "id": "61fd2f67",
   "metadata": {},
   "outputs": [
    {
     "data": {
      "text/html": [
       "<div>\n",
       "<style scoped>\n",
       "    .dataframe tbody tr th:only-of-type {\n",
       "        vertical-align: middle;\n",
       "    }\n",
       "\n",
       "    .dataframe tbody tr th {\n",
       "        vertical-align: top;\n",
       "    }\n",
       "\n",
       "    .dataframe thead th {\n",
       "        text-align: right;\n",
       "    }\n",
       "</style>\n",
       "<table border=\"1\" class=\"dataframe\">\n",
       "  <thead>\n",
       "    <tr style=\"text-align: right;\">\n",
       "      <th></th>\n",
       "      <th>name_sci</th>\n",
       "      <th>status</th>\n",
       "    </tr>\n",
       "  </thead>\n",
       "  <tbody>\n",
       "    <tr>\n",
       "      <th>0</th>\n",
       "      <td>Heleia superciliaris</td>\n",
       "      <td>LC</td>\n",
       "    </tr>\n",
       "    <tr>\n",
       "      <th>1</th>\n",
       "      <td>Oriturus superciliosus</td>\n",
       "      <td>LC</td>\n",
       "    </tr>\n",
       "    <tr>\n",
       "      <th>2</th>\n",
       "      <td>Schistolais leucopogon</td>\n",
       "      <td>LC</td>\n",
       "    </tr>\n",
       "    <tr>\n",
       "      <th>3</th>\n",
       "      <td>Fluvicola nengeta</td>\n",
       "      <td>LC</td>\n",
       "    </tr>\n",
       "    <tr>\n",
       "      <th>4</th>\n",
       "      <td>Sylvietta chapini</td>\n",
       "      <td>CR</td>\n",
       "    </tr>\n",
       "    <tr>\n",
       "      <th>...</th>\n",
       "      <td>...</td>\n",
       "      <td>...</td>\n",
       "    </tr>\n",
       "    <tr>\n",
       "      <th>11102</th>\n",
       "      <td>Tangara inornata</td>\n",
       "      <td>LC</td>\n",
       "    </tr>\n",
       "    <tr>\n",
       "      <th>11103</th>\n",
       "      <td>Tangara mexicana</td>\n",
       "      <td>LC</td>\n",
       "    </tr>\n",
       "    <tr>\n",
       "      <th>11104</th>\n",
       "      <td>Tangara chilensis</td>\n",
       "      <td>LC</td>\n",
       "    </tr>\n",
       "    <tr>\n",
       "      <th>11105</th>\n",
       "      <td>Tangara callophrys</td>\n",
       "      <td>LC</td>\n",
       "    </tr>\n",
       "    <tr>\n",
       "      <th>11106</th>\n",
       "      <td>Tangara cyanomelas</td>\n",
       "      <td>LC</td>\n",
       "    </tr>\n",
       "  </tbody>\n",
       "</table>\n",
       "<p>11107 rows × 2 columns</p>\n",
       "</div>"
      ],
      "text/plain": [
       "                     name_sci status\n",
       "0        Heleia superciliaris     LC\n",
       "1      Oriturus superciliosus     LC\n",
       "2      Schistolais leucopogon     LC\n",
       "3           Fluvicola nengeta     LC\n",
       "4           Sylvietta chapini     CR\n",
       "...                       ...    ...\n",
       "11102        Tangara inornata     LC\n",
       "11103        Tangara mexicana     LC\n",
       "11104       Tangara chilensis     LC\n",
       "11105      Tangara callophrys     LC\n",
       "11106      Tangara cyanomelas     LC\n",
       "\n",
       "[11107 rows x 2 columns]"
      ]
     },
     "execution_count": 48,
     "metadata": {},
     "output_type": "execute_result"
    }
   ],
   "source": [
    "import pandas as pd\n",
    "\n",
    "blifile = \"../data/master-BLI-11107.csv\"\n",
    "\n",
    "bli = pd.read_csv(blifile, header = 0).fillna('')\n",
    "bli = bli[['name_sci','status']]\n",
    "bli"
   ]
  },
  {
   "cell_type": "markdown",
   "id": "d518b738",
   "metadata": {},
   "source": [
    "Check the status distribution:"
   ]
  },
  {
   "cell_type": "code",
   "execution_count": 56,
   "id": "afa16703",
   "metadata": {},
   "outputs": [
    {
     "name": "stdout",
     "output_type": "stream",
     "text": [
      "Counter({'LC': 8459,\n",
      "         'NT': 1004,\n",
      "         'VU': 768,\n",
      "         'EN': 444,\n",
      "         'CR': 197,\n",
      "         'EX': 157,\n",
      "         'DD': 50,\n",
      "         'PE': 22,\n",
      "         'EW': 5,\n",
      "         '': 1})\n"
     ]
    },
    {
     "data": {
      "text/html": [
       "<div>\n",
       "<style scoped>\n",
       "    .dataframe tbody tr th:only-of-type {\n",
       "        vertical-align: middle;\n",
       "    }\n",
       "\n",
       "    .dataframe tbody tr th {\n",
       "        vertical-align: top;\n",
       "    }\n",
       "\n",
       "    .dataframe thead th {\n",
       "        text-align: right;\n",
       "    }\n",
       "</style>\n",
       "<table border=\"1\" class=\"dataframe\">\n",
       "  <thead>\n",
       "    <tr style=\"text-align: right;\">\n",
       "      <th></th>\n",
       "      <th>name_sci</th>\n",
       "      <th>status</th>\n",
       "    </tr>\n",
       "  </thead>\n",
       "  <tbody>\n",
       "    <tr>\n",
       "      <th>4418</th>\n",
       "      <td>Acanthidops bairdi</td>\n",
       "      <td></td>\n",
       "    </tr>\n",
       "  </tbody>\n",
       "</table>\n",
       "</div>"
      ],
      "text/plain": [
       "                name_sci status\n",
       "4418  Acanthidops bairdi       "
      ]
     },
     "execution_count": 56,
     "metadata": {},
     "output_type": "execute_result"
    }
   ],
   "source": [
    "from collections import Counter\n",
    "from pprint import pprint\n",
    "\n",
    "pprint( Counter(bli['status']) )\n",
    "\n",
    "# check anomalous rows:\n",
    "bli[bli['status'] == '']"
   ]
  },
  {
   "cell_type": "markdown",
   "id": "0f3a25bc",
   "metadata": {},
   "source": [
    "Let's record, for each genus name as in the previous section, two counts: how many species it covers with status <i>LC</i> or <i>EX</i>, and how many species with other status values."
   ]
  },
  {
   "cell_type": "code",
   "execution_count": 109,
   "id": "12db419b",
   "metadata": {
    "scrolled": true
   },
   "outputs": [
    {
     "name": "stdout",
     "output_type": "stream",
     "text": [
      "Total genus names 2372\n",
      "Total LC genera 2092\n",
      "Total VU genera 1017\n"
     ]
    }
   ],
   "source": [
    "lc_count = dict()\n",
    "vu_count = dict()\n",
    "\n",
    "for i in range(bli.shape[0]):\n",
    "    name = bli.at[i, 'name_sci']\n",
    "    genus = name.split()[0].lower()\n",
    "    if genus not in lc_count:\n",
    "        lc_count[genus] = 0\n",
    "    if genus not in vu_count:\n",
    "        vu_count[genus] = 0\n",
    "    status = bli.at[i, 'status']\n",
    "    if status in ['LC','EX']:\n",
    "        lc_count[genus] += 1\n",
    "    else:\n",
    "        vu_count[genus] += 1\n",
    "        \n",
    "print(f'Total genus names {len(lc_count.keys())}')\n",
    "print(f'Total LC genera {len( [g for g in lc_count if lc_count[g] > 0] )}')\n",
    "print(f'Total VU genera {len( [g for g in lc_count if vu_count[g] > 0] )}')"
   ]
  },
  {
   "cell_type": "markdown",
   "id": "7cdb19a9",
   "metadata": {},
   "source": [
    "Note that this data set has 2,372 genus names – 28 fewer than the 2,400 we found above in the BLI spreadsheet.\n",
    "\n",
    "Let's plot the two counts:"
   ]
  },
  {
   "cell_type": "code",
   "execution_count": 80,
   "id": "eeaf091a",
   "metadata": {},
   "outputs": [
    {
     "data": {
      "text/plain": [
       "<function matplotlib.pyplot.show(close=None, block=None)>"
      ]
     },
     "execution_count": 80,
     "metadata": {},
     "output_type": "execute_result"
    },
    {
     "data": {
      "image/png": "[encoded data removed]",
      "text/plain": [
       "<Figure size 432x288 with 1 Axes>"
      ]
     },
     "metadata": {
      "needs_background": "light"
     },
     "output_type": "display_data"
    }
   ],
   "source": [
    "from matplotlib import pyplot as plt\n",
    "\n",
    "genus = sorted(lc_count.keys())\n",
    "x = [lc_count[g] for g in genus]\n",
    "y = [vu_count[g] for g in genus]\n",
    "\n",
    "plt.scatter(x,y, s = 0.7)\n",
    "plt.xlabel('LC count')\n",
    "plt.ylabel('VU count')\n",
    "plt.show"
   ]
  },
  {
   "cell_type": "markdown",
   "id": "b7af9864",
   "metadata": {},
   "source": [
    "Make a data frame and write to disk:"
   ]
  },
  {
   "cell_type": "code",
   "execution_count": 104,
   "id": "13079f7f",
   "metadata": {},
   "outputs": [
    {
     "data": {
      "text/html": [
       "<div>\n",
       "<style scoped>\n",
       "    .dataframe tbody tr th:only-of-type {\n",
       "        vertical-align: middle;\n",
       "    }\n",
       "\n",
       "    .dataframe tbody tr th {\n",
       "        vertical-align: top;\n",
       "    }\n",
       "\n",
       "    .dataframe thead th {\n",
       "        text-align: right;\n",
       "    }\n",
       "</style>\n",
       "<table border=\"1\" class=\"dataframe\">\n",
       "  <thead>\n",
       "    <tr style=\"text-align: right;\">\n",
       "      <th></th>\n",
       "      <th>genus</th>\n",
       "      <th>lc_count</th>\n",
       "      <th>vu_count</th>\n",
       "    </tr>\n",
       "  </thead>\n",
       "  <tbody>\n",
       "    <tr>\n",
       "      <th>1299</th>\n",
       "      <td>abeillia</td>\n",
       "      <td>1</td>\n",
       "      <td>0</td>\n",
       "    </tr>\n",
       "    <tr>\n",
       "      <th>60</th>\n",
       "      <td>abroscopus</td>\n",
       "      <td>3</td>\n",
       "      <td>0</td>\n",
       "    </tr>\n",
       "    <tr>\n",
       "      <th>1816</th>\n",
       "      <td>aburria</td>\n",
       "      <td>0</td>\n",
       "      <td>1</td>\n",
       "    </tr>\n",
       "    <tr>\n",
       "      <th>860</th>\n",
       "      <td>acanthagenys</td>\n",
       "      <td>1</td>\n",
       "      <td>0</td>\n",
       "    </tr>\n",
       "    <tr>\n",
       "      <th>1561</th>\n",
       "      <td>acanthidops</td>\n",
       "      <td>0</td>\n",
       "      <td>1</td>\n",
       "    </tr>\n",
       "    <tr>\n",
       "      <th>...</th>\n",
       "      <td>...</td>\n",
       "      <td>...</td>\n",
       "      <td>...</td>\n",
       "    </tr>\n",
       "    <tr>\n",
       "      <th>524</th>\n",
       "      <td>zonotrichia</td>\n",
       "      <td>4</td>\n",
       "      <td>1</td>\n",
       "    </tr>\n",
       "    <tr>\n",
       "      <th>207</th>\n",
       "      <td>zoonavena</td>\n",
       "      <td>3</td>\n",
       "      <td>0</td>\n",
       "    </tr>\n",
       "    <tr>\n",
       "      <th>232</th>\n",
       "      <td>zoothera</td>\n",
       "      <td>13</td>\n",
       "      <td>7</td>\n",
       "    </tr>\n",
       "    <tr>\n",
       "      <th>184</th>\n",
       "      <td>zosterops</td>\n",
       "      <td>69</td>\n",
       "      <td>31</td>\n",
       "    </tr>\n",
       "    <tr>\n",
       "      <th>471</th>\n",
       "      <td>zosterornis</td>\n",
       "      <td>1</td>\n",
       "      <td>4</td>\n",
       "    </tr>\n",
       "  </tbody>\n",
       "</table>\n",
       "<p>2372 rows × 3 columns</p>\n",
       "</div>"
      ],
      "text/plain": [
       "             genus  lc_count  vu_count\n",
       "1299      abeillia         1         0\n",
       "60      abroscopus         3         0\n",
       "1816       aburria         0         1\n",
       "860   acanthagenys         1         0\n",
       "1561   acanthidops         0         1\n",
       "...            ...       ...       ...\n",
       "524    zonotrichia         4         1\n",
       "207      zoonavena         3         0\n",
       "232       zoothera        13         7\n",
       "184      zosterops        69        31\n",
       "471    zosterornis         1         4\n",
       "\n",
       "[2372 rows x 3 columns]"
      ]
     },
     "execution_count": 104,
     "metadata": {},
     "output_type": "execute_result"
    }
   ],
   "source": [
    "search_terms_restricted = pd.DataFrame({\n",
    "    'genus':lc_count.keys(), \n",
    "    'lc_count': lc_count.values(), \n",
    "    'vu_count': vu_count.values()}\n",
    ").sort_values(by = 'genus')\n",
    "\n",
    "searchterm_file = \"../data/searchterms_restricted.txt\"\n",
    "search_terms_restricted.to_csv(searchterm_file, index = False)\n",
    "\n",
    "search_terms_restricted"
   ]
  },
  {
   "cell_type": "markdown",
   "id": "e9ac6b4d",
   "metadata": {},
   "source": [
    "The proposal is that for search in <a href=\"https://www.biorxiv.org/\">biorxiv.org</a>, <a href=\"https://scielo.org/\">scielo.org</a>, <a href=\"https://www.jstage.jst.go.jp/\">jstage.jst.go.jp</a>, <a href=\"https://cnki.net/\">cnki.net</a> etc we use the 1,017 geneus names with nonzero 'vu_count'."
   ]
  }
 ],
 "metadata": {
  "kernelspec": {
   "display_name": "Python 3 (ipykernel)",
   "language": "python",
   "name": "python3"
  },
  "language_info": {
   "codemirror_mode": {
    "name": "ipython",
    "version": 3
   },
   "file_extension": ".py",
   "mimetype": "text/x-python",
   "name": "python",
   "nbconvert_exporter": "python",
   "pygments_lexer": "ipython3",
   "version": "3.9.12"
  }
 },
 "nbformat": 4,
 "nbformat_minor": 5
}
